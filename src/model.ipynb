{
 "cells": [
  {
   "cell_type": "markdown",
   "metadata": {},
   "source": [
    "# Imports"
   ]
  },
  {
   "cell_type": "code",
   "execution_count": 27,
   "metadata": {},
   "outputs": [],
   "source": [
    "import pandas as pd\n",
    "import heapq\n",
    "from collections import defaultdict\n",
    "from operator import itemgetter\n",
    "from lightfm.data import Dataset\n",
    "from lightfm import lightfm\n",
    "from lightfm.cross_validation import random_train_test_split\n",
    "from lightfm.evaluation import auc_score\n",
    "import numpy as np\n",
    "import glob\n",
    "import os\n",
    "import sys\n",
    "import scipy\n",
    "\n",
    "from data_helper import *"
   ]
  },
  {
   "cell_type": "code",
   "execution_count": 48,
   "metadata": {},
   "outputs": [],
   "source": [
    "def generate_feature_list(dataframe, features_name):\n",
    "    \"\"\"\n",
    "    Generate features list for mapping \n",
    "\n",
    "    Parameters\n",
    "    ----------\n",
    "    dataframe: Dataframe\n",
    "        Pandas Dataframe for Users or Q&A. \n",
    "    features_name : List\n",
    "        List of feature columns name avaiable in dataframe. \n",
    "        \n",
    "    Returns\n",
    "    -------\n",
    "    List of all features for mapping \n",
    "    \"\"\"\n",
    "    features = dataframe[features_name].apply(\n",
    "        lambda x: ','.join(x.map(str)), axis=1)\n",
    "    features = features.str.split(',')\n",
    "    features = features.apply(pd.Series).stack().reset_index(drop=True)\n",
    "    return features\n",
    "\n",
    "def func(x):\n",
    "    return ','.join(x.map(str))\n",
    "\n",
    "def create_features (dataframe, features_name, id_col):\n",
    "    features = dataframe[features_name].apply(func, axis=1)\n",
    "    features = features.str.split(',')\n",
    "    features = list(zip(dataframe[id_col], features))\n",
    "    return features\n",
    "\n",
    "def calculate_auc_score(lightfm_model, interactions_matrix, \n",
    "                        question_features, professional_features): \n",
    "    \"\"\"\n",
    "    Measure the ROC AUC metric for a model. \n",
    "    A perfect score is 1.0.\n",
    "\n",
    "    Parameters\n",
    "    ----------\n",
    "    lightfm_model: LightFM model \n",
    "        A fitted lightfm model \n",
    "    interactions_matrix : \n",
    "        A lightfm interactions matrix \n",
    "    question_features, professional_features: \n",
    "        Lightfm features \n",
    "        \n",
    "    Returns\n",
    "    -------\n",
    "    String containing AUC score \n",
    "    \"\"\"\n",
    "    score = auc_score( \n",
    "        lightfm_model, interactions_matrix, \n",
    "        item_features=question_features, \n",
    "        user_features=professional_features, \n",
    "        num_threads=16).mean()\n",
    "    return score"
   ]
  },
  {
   "cell_type": "code",
   "execution_count": 29,
   "metadata": {},
   "outputs": [],
   "source": [
    "customer_features, product_features = get_features()\n",
    "customer_features = customer_features.reset_index(level=0)\n",
    "product_features = product_features.reset_index(level=0)\n",
    "\n",
    "interactions = get_interactions()\n",
    "\n",
    "customer_features_list = generate_feature_list(customer_features, customer_features.columns.tolist()[1:])\n",
    "product_features_list = generate_feature_list(product_features, product_features.columns.tolist()[1:])"
   ]
  },
  {
   "cell_type": "code",
   "execution_count": 30,
   "metadata": {},
   "outputs": [],
   "source": [
    "dataset = Dataset()\n",
    "dataset.fit(items=product_features['product_id'].tolist(), \n",
    "            users=customer_features['customer_unique_id'].tolist(), \n",
    "            item_features=product_features_list, \n",
    "            user_features=customer_features_list)"
   ]
  },
  {
   "cell_type": "code",
   "execution_count": 31,
   "metadata": {},
   "outputs": [],
   "source": [
    "customer_product_interaction = list(zip(interactions.customer_unique_id, interactions.product_id, \n",
    "                                        interactions.review_score))\n",
    "interactions, weights = dataset.build_interactions(data=customer_product_interaction)"
   ]
  },
  {
   "cell_type": "code",
   "execution_count": 32,
   "metadata": {},
   "outputs": [],
   "source": [
    "customer_features = create_features(customer_features, customer_features.columns.tolist()[1:], 'customer_unique_id')\n",
    "product_features = create_features(product_features, product_features.columns.tolist()[1:], 'product_id')\n",
    "\n",
    "customer_features = dataset.build_user_features(data=customer_features)\n",
    "product_features = dataset.build_item_features(data=product_features)"
   ]
  },
  {
   "cell_type": "code",
   "execution_count": 46,
   "metadata": {},
   "outputs": [
    {
     "name": "stderr",
     "output_type": "stream",
     "text": [
      "Epoch: 100%|██████████████████████████████████| 100/100 [10:39<00:00,  6.39s/it]\n"
     ]
    },
    {
     "data": {
      "text/plain": [
       "<lightfm.lightfm.LightFM at 0x1315ea850>"
      ]
     },
     "execution_count": 46,
     "metadata": {},
     "output_type": "execute_result"
    }
   ],
   "source": [
    "# Train model\n",
    "model = lightfm.LightFM(no_components=150, learning_rate=0.05, loss='warp', random_state=2022)\n",
    "model.fit(interactions=interactions, \n",
    "          item_features=product_features, \n",
    "          user_features=customer_features, \n",
    "          sample_weight=weights, \n",
    "          epochs=100, verbose=True, num_threads=16)"
   ]
  },
  {
   "cell_type": "code",
   "execution_count": null,
   "metadata": {},
   "outputs": [],
   "source": [
    "calculate_auc_score(model, interactions, product_features, customer_features)"
   ]
  }
 ],
 "metadata": {
  "kernelspec": {
   "display_name": "Python 3 (ipykernel)",
   "language": "python",
   "name": "python3"
  },
  "language_info": {
   "codemirror_mode": {
    "name": "ipython",
    "version": 3
   },
   "file_extension": ".py",
   "mimetype": "text/x-python",
   "name": "python",
   "nbconvert_exporter": "python",
   "pygments_lexer": "ipython3",
   "version": "3.9.12"
  },
  "vscode": {
   "interpreter": {
    "hash": "152817971f61c4c27a9c430bd40baec0953a77c133faf52ea680e5bbf66c0efe"
   }
  }
 },
 "nbformat": 4,
 "nbformat_minor": 2
}
