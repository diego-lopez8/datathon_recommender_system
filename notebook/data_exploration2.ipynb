{
 "cells": [
  {
   "cell_type": "code",
   "execution_count": 12,
   "id": "036f88f5",
   "metadata": {},
   "outputs": [],
   "source": [
    "import pandas as pd\n",
    "import glob\n",
    "import matplotlib.pyplot as plt"
   ]
  },
  {
   "cell_type": "code",
   "execution_count": 27,
   "id": "12c165e8",
   "metadata": {},
   "outputs": [
    {
     "name": "stdout",
     "output_type": "stream",
     "text": [
      "dict_keys(['sellers', 'product_category_name_translation', 'orders', 'order_items', 'customers', 'geolocation', 'order_payments', 'order_reviews', 'products'])\n"
     ]
    }
   ],
   "source": [
    "files = glob.glob('../data/raw/archive/*.csv')\n",
    "datasets = {f.split('/')[-1][:-4].replace('olist_', '').replace('_dataset', ''): pd.read_csv(f) for f in files}\n",
    "print(datasets.keys())"
   ]
  },
  {
   "cell_type": "code",
   "execution_count": 30,
   "id": "fb673deb",
   "metadata": {},
   "outputs": [
    {
     "name": "stdout",
     "output_type": "stream",
     "text": [
      "99441\n",
      "96096\n",
      "(99441, 5)\n",
      "99441\n",
      "(99441, 8)\n"
     ]
    }
   ],
   "source": [
    "print(datasets['customers']['customer_id'].nunique())\n",
    "print(datasets['customers']['customer_unique_id'].nunique())\n",
    "print(datasets['customers'].shape)\n",
    "print(datasets['orders']['customer_id'].nunique())\n",
    "print(datasets['orders'].shape)"
   ]
  },
  {
   "cell_type": "code",
   "execution_count": null,
   "id": "5edabf06",
   "metadata": {},
   "outputs": [],
   "source": [
    "customers_orders = pd.merge(datasets['orders'], datasets['customers'], \n",
    "                            left_on=['customer_id'], right_on=['customer_id'], how='inner')\n",
    "customers_orders.sort_values(['customer_unique_id'])\n",
    "num_orders = {}\n",
    "for customer in customers_orders['customer_unique_id'].unique():\n",
    "    orders = customers_orders.loc[customers_orders['customer_unique_id'] == customer]\n",
    "    if orders.shape[0] not in num_orders:\n",
    "        num_orders[orders.shape[0]] = orders.shape[0]\n",
    "    else:\n",
    "        num_orders[orders.shape[0]] += orders.shape[0]"
   ]
  },
  {
   "cell_type": "code",
   "execution_count": null,
   "id": "da0b5f81",
   "metadata": {},
   "outputs": [],
   "source": [
    "plt.hist(num_orders_per_customer.values())"
   ]
  },
  {
   "cell_type": "code",
   "execution_count": null,
   "id": "a52ae074",
   "metadata": {},
   "outputs": [],
   "source": []
  }
 ],
 "metadata": {
  "kernelspec": {
   "display_name": "Python 3 (ipykernel)",
   "language": "python",
   "name": "python3"
  },
  "language_info": {
   "codemirror_mode": {
    "name": "ipython",
    "version": 3
   },
   "file_extension": ".py",
   "mimetype": "text/x-python",
   "name": "python",
   "nbconvert_exporter": "python",
   "pygments_lexer": "ipython3",
   "version": "3.9.12"
  }
 },
 "nbformat": 4,
 "nbformat_minor": 5
}
